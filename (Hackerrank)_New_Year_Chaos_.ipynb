{
  "nbformat": 4,
  "nbformat_minor": 0,
  "metadata": {
    "colab": {
      "name": "(Hackerrank) New Year Chaos .ipynb",
      "provenance": [],
      "authorship_tag": "ABX9TyNctcMMWoOj1j038Z2qgeID",
      "include_colab_link": true
    },
    "kernelspec": {
      "name": "python3",
      "display_name": "Python 3"
    },
    "language_info": {
      "name": "python"
    }
  },
  "cells": [
    {
      "cell_type": "markdown",
      "metadata": {
        "id": "view-in-github",
        "colab_type": "text"
      },
      "source": [
        "<a href=\"https://colab.research.google.com/github/kylechanpols/leetcode_examples/blob/main/(Hackerrank)_New_Year_Chaos_.ipynb\" target=\"_parent\"><img src=\"https://colab.research.google.com/assets/colab-badge.svg\" alt=\"Open In Colab\"/></a>"
      ]
    },
    {
      "cell_type": "markdown",
      "metadata": {
        "id": "Ou8XSuDdnRLK"
      },
      "source": [
        "# New Year Chaos\n",
        "It is New Year's Day and people are in line for the Wonderland rollercoaster ride. Each person wears a sticker indicating their initial position in the queue from $1$ to $n$. Any person can bribe the person directly in front of them to swap positions, but they still wear their original sticker. One person can bribe at most two others.\n",
        "\n",
        "Determine the minimum number of bribes that took place to get to a given queue order. Print the number of bribes, or, if anyone has bribed more than two people, print Too chaotic.\n",
        "\n",
        "## Example\n",
        "\n",
        "$q=[1,2,3,4,5,6,7,8]$\n",
        "\n",
        "If person $5$ bribes person $4$, the queue will look like this: . Only $1$ bribe is required. Print 1.\n",
        "\n",
        "$q=[4,1,2,3]\n",
        "$\n",
        "Person  had to bribe  people to get to the current position. Print `Too chaotic`.\n",
        "\n",
        "## Function Description\n",
        "\n",
        "Complete the function minimumBribes in the editor below.\n",
        "\n",
        "minimumBribes has the following parameter(s):\n",
        "\n",
        "int q[n]: the positions of the people after all bribes\n",
        "\n",
        "## Returns\n",
        "\n",
        "No value is returned. Print the minimum number of bribes necessary or Too chaotic if someone has bribed more than  people.\n",
        "\n",
        "## Input Format\n",
        "\n",
        "The first line contains an integer $t$, the number of test cases.\n",
        "\n",
        "Each of the next $t$ pairs of lines are as follows:\n",
        "- The first line contains an integer $t$, the number of people in the queue\n",
        "- The second line has $n$ space-separated integers describing the final state of the queue.\n",
        "\n",
        "## Constraints\n",
        "\n",
        "$1 \\leqslant t \\leqslant 10$\n",
        "\n",
        "$1 \\leqslant n \\leqslant 10^5$\n",
        "\n",
        "\n",
        "## Sample Input\n",
        "```\n",
        "STDIN       Function\n",
        "-----       --------\n",
        "2           t = 2\n",
        "5           n = 5\n",
        "2 1 5 3 4   q = [2, 1, 5, 3, 4]\n",
        "5           n = 5\n",
        "2 5 1 3 4   q = [2, 5, 1, 3, 4]\n",
        "```\n",
        "\n",
        "## Sample Output\n",
        "\n",
        "3\n",
        "Too chaotic"
      ]
    },
    {
      "cell_type": "markdown",
      "metadata": {
        "id": "MwFdrifxn-C4"
      },
      "source": [
        "# Thought Process\n",
        "\n",
        "The number of bribes can also be thought of as the number of overtakes. Each person can at most overtake someone twice. If someone overtook more than twice, then we print `Too chaotic!`.\n",
        "\n",
        "To achieve this, we go to the back of the line and look for each person. First, check if each person has overtook someone more than twice, this can be done by looking at `i+2` persons if `q[i+2]` is $> 2$ then we know person `i+2` has overtaken twice and we terminate the program.\n",
        "\n",
        "Then, construct a secondary loop from `max(0, q[i] -2)` up to `i`. This helps us check all possible persons before `i`. Think of the iterator `j` as the index for an array where everything is sorted and no one bribed.  Whenver `q[j] > q[i]`, we know that person `j` has overtaken `i` so we add 1 to the number of overtakes. If the program is not terminated, report the number of overtakes.\n",
        "\n",
        "# Code"
      ]
    },
    {
      "cell_type": "code",
      "metadata": {
        "id": "0O9kpRr-nx52"
      },
      "source": [
        "def minimumBribes(q):\n",
        "    l = len(q)\n",
        "    overtake = 0\n",
        "    for i in range(l-1,-1,-1):\n",
        "        j = max(0, q[i] - 2)\n",
        "        if(q[i] - (i+1) >2):\n",
        "            print(\"Too chaotic\")\n",
        "            return None\n",
        "        while (j<i):\n",
        "            if(q[j]>q[i]):\n",
        "                overtake += 1\n",
        "            j += 1\n",
        "    print(overtake)\n",
        "    return None"
      ],
      "execution_count": null,
      "outputs": []
    }
  ]
}