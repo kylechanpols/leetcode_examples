{
  "nbformat": 4,
  "nbformat_minor": 0,
  "metadata": {
    "colab": {
      "name": "17 - Letter Combinations of a Phone Number.ipynb",
      "provenance": [],
      "collapsed_sections": [],
      "authorship_tag": "ABX9TyMRe8SIWby8OD9Zrjq5MlqA",
      "include_colab_link": true
    },
    "kernelspec": {
      "name": "python3",
      "display_name": "Python 3"
    },
    "language_info": {
      "name": "python"
    }
  },
  "cells": [
    {
      "cell_type": "markdown",
      "metadata": {
        "id": "view-in-github",
        "colab_type": "text"
      },
      "source": [
        "<a href=\"https://colab.research.google.com/github/kylechanpols/leetcode_examples/blob/main/17_Letter_Combinations_of_a_Phone_Number.ipynb\" target=\"_parent\"><img src=\"https://colab.research.google.com/assets/colab-badge.svg\" alt=\"Open In Colab\"/></a>"
      ]
    },
    {
      "cell_type": "markdown",
      "metadata": {
        "id": "qlBdliEAl6dJ"
      },
      "source": [
        "#17. Letter Combinations of a Phone Number\n",
        "\n",
        "Given a string containing digits from 2-9 inclusive, return all possible letter combinations that the number could represent. Return the answer in any order.\n",
        "\n",
        "A mapping of digit to letters (just like on the telephone buttons) is given below. Note that 1 does not map to any letters.\n",
        "\n",
        "Example 1:\n",
        "```\n",
        "Input: digits = \"23\"\n",
        "Output: [\"ad\",\"ae\",\"af\",\"bd\",\"be\",\"bf\",\"cd\",\"ce\",\"cf\"]\n",
        "```\n",
        "\n",
        "Example 2:\n",
        "```\n",
        "Input: digits = \"\"\n",
        "Output: []\n",
        "```\n",
        "Example 3:\n",
        "\n",
        "```\n",
        "Input: digits = \"2\"\n",
        "Output: [\"a\",\"b\",\"c\"]\n",
        "```\n",
        "\n",
        "## Thought Process\n",
        "\n",
        "If we know the set of characters corresponding to each digit, then what we want is a function that maps each value in each characters set to other character sets:\n",
        "\n",
        "```\n",
        "\n",
        "\"2\"\n",
        "->['a','b','c']\n",
        "\n",
        "\"3\"\n",
        "->['d','e','f']\n",
        "\n",
        "\"23\"\n",
        "->['a','b','c'] & ['d','e','f']\n",
        "\n",
        "#for each value inside the set, combine with all items with the other sets\n",
        "i.e.\n",
        "->['a'] + ['d','e','f'] = ['ad','ae','af']\n",
        "->['b'] + ['d','e','f'] = ['bd','be','bf']\n",
        "...\n",
        "[\"ad\",\"ae\",\"af\",\"bd\",\"be\",\"bf\",\"cd\",\"ce\",\"cf\"]\n",
        "```\n",
        "\n",
        "Turns out this is exactly the definition of a  [Casterian product](https://en.wikipedia.org/wiki/Cartesian_product). The Casterian product can be obtained by `itertools.product(set*)`\n",
        "\n",
        "## Psuedocode\n",
        "\n",
        "Then it becomes very clear that the program should contain the following steps:\n",
        "1. Initialize blank lists to contain sets of characters\n",
        "2. Make a dictionary mapping each digit to its particular set of characters\n",
        "3. Turn the input digits into integers, then:\n",
        "  3a. for each integer, find the set of characters corresponding to that integer using the dictionary created from (2)\n",
        "4. Compute the Casterian product with `itertools.product()`\n",
        "5. Melt the tuple back into a list of strings. This can be achieved with `str.join()`.\n",
        "\n",
        "# Code"
      ]
    },
    {
      "cell_type": "code",
      "metadata": {
        "id": "Dg52VTfIv6Jd"
      },
      "source": [
        "from itertools import product\n",
        "\n",
        "class Solution:\n",
        "                \n",
        "    def letterCombinations(self, digits: str) -> List[str]:\n",
        "        characters = list() #initialize the list of characters converted\n",
        "\n",
        "        u_length = len(set(digits))\n",
        "        \n",
        "        dict = {0: None,\n",
        "               1 : None,\n",
        "               2 : [\"a\",\"b\",\"c\"],\n",
        "               3 : [\"d\",\"e\",\"f\"],\n",
        "               4 : [\"g\",\"h\",\"i\"],\n",
        "               5 : [\"j\",\"k\",\"l\"],\n",
        "               6 : [\"m\",\"n\",\"o\"],\n",
        "               7 : [\"p\",\"q\",\"r\",\"s\"],\n",
        "               8 : [\"t\",\"u\",\"v\"],\n",
        "               9 : [\"w\",\"x\",\"y\",\"z\"]} # dictionary for the conversion\n",
        "        \n",
        "        if(u_length == 0):\n",
        "            return [] # if the input is empty, return an empty list\n",
        "        \n",
        "        for number in [int(d) for d in digits]: ## using list comprehension:\n",
        "            # [int(d) for d in digits]-> iteration through each digit, turn it into a list of digits\n",
        "            characters.append(dict[number]) # use the dictionary to find the set of characters that represents the digit\n",
        "        \n",
        "        combs = list(product(*out)) # use itertools.product to find the unique combination of the list of character sets (aka the casterian product)\n",
        "        \n",
        "        #using two list comprehensions:\n",
        "        # for item in [x for x in combs] - for each tuple of the letter combinations, called item\n",
        "        # use str.join(item) to turn them from tuple to string\n",
        "        # combine everything as a list via []\n",
        "        return([''.join(item) for item in [x for x in combs]]) \n",
        "            \n",
        "        "
      ],
      "execution_count": null,
      "outputs": []
    },
    {
      "cell_type": "code",
      "metadata": {
        "id": "hipfzTH-UOJK"
      },
      "source": [
        ""
      ],
      "execution_count": null,
      "outputs": []
    }
  ]
}