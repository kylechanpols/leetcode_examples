{
  "nbformat": 4,
  "nbformat_minor": 0,
  "metadata": {
    "colab": {
      "name": "(Hackerrank) 2D Array - DS.ipynb",
      "provenance": [],
      "authorship_tag": "ABX9TyN6Dprb8+84kdV67bnx1xjO",
      "include_colab_link": true
    },
    "kernelspec": {
      "name": "python3",
      "display_name": "Python 3"
    },
    "language_info": {
      "name": "python"
    }
  },
  "cells": [
    {
      "cell_type": "markdown",
      "metadata": {
        "id": "view-in-github",
        "colab_type": "text"
      },
      "source": [
        "<a href=\"https://colab.research.google.com/github/kylechanpols/leetcode_examples/blob/main/(Hackerrank)_2D_Array_DS.ipynb\" target=\"_parent\"><img src=\"https://colab.research.google.com/assets/colab-badge.svg\" alt=\"Open In Colab\"/></a>"
      ]
    },
    {
      "cell_type": "markdown",
      "metadata": {
        "id": "dtchoA_baXMp"
      },
      "source": [
        "#2D Array - DS\n",
        "\n",
        "Given a $6*6$ 2D Array, `arr` :\n",
        "```\n",
        "1 1 1 0 0 0\n",
        "0 1 0 0 0 0\n",
        "1 1 1 0 0 0\n",
        "0 0 0 0 0 0\n",
        "0 0 0 0 0 0\n",
        "0 0 0 0 0 0\n",
        "```\n",
        "An hourglass in  is a subset of values with indices falling in this pattern in 's graphical representation:\n",
        "```\n",
        "a b c\n",
        "  d\n",
        "e f g\n",
        "```\n",
        "There are  hourglasses in . An hourglass sum is the sum of an hourglass' values. Calculate the hourglass sum for every hourglass in , then print the maximum hourglass sum. The array will always be .\n",
        "\n",
        "## Example\n",
        "\n",
        "```\n",
        "-9 -9 -9  1 1 1 \n",
        " 0 -9  0  4 3 2\n",
        "-9 -9 -9  1 2 3\n",
        " 0  0  8  6 6 0\n",
        " 0  0  0 -2 0 0\n",
        " 0  0  1  2 4 0\n",
        " ```\n",
        "The  hourglass sums are:\n",
        "\n",
        "```\n",
        "-63, -34, -9, 12, \n",
        "-10,   0, 28, 23, \n",
        "-27, -11, -2, 10, \n",
        "  9,  17, 25, 18\n",
        "```\n",
        "The highest hourglass sum is  from the hourglass beginning at row , column :\n",
        "```\n",
        "0 4 3\n",
        "  1\n",
        "8 6 6\n",
        "```\n",
        "Note: If you have already solved the Java domain's Java 2D Array challenge, you may wish to skip this challenge.\n",
        "\n",
        "## Function Description\n",
        "\n",
        "Complete the function hourglassSum in the editor below.\n",
        "\n",
        "hourglassSum has the following parameter(s):\n",
        "\n",
        "int arr[6][6]: an array of integers\n",
        "Returns\n",
        "\n",
        "int: the maximum hourglass sum\n",
        "\n",
        "## Input Format\n",
        "\n",
        "Each of the $6$ lines of inputs `arr[i]` contains $6$ space-separated integers `arr[i][j]`.\n",
        "\n",
        "## Constraints\n",
        "$-9 \\leqslant arr[i][j] \\leqslant 9$\n",
        "\n",
        "$0 \\leqslant i,j \\leqslant 5$\n"
      ]
    },
    {
      "cell_type": "markdown",
      "metadata": {
        "id": "-G5F_KuibJBb"
      },
      "source": [
        "## Thought Process\n",
        "A simple algorithm that we can use is the sliding window. In the sliding window algorithm, we focus on a smaller sub-matrix (in this case, a $3*3$ matrix) within the $6*6$ one at a time. Then, we move on to the next column $j+1$ and acquire another $3*3$ matrix and perform the required computation. As a result, we would have performed some computation on $4*4 = 16$ sub-matrices. For example, let `arr` =:\n",
        "```\n",
        "1 1 1 0 0 0\n",
        "0 1 0 0 0 0\n",
        "1 1 1 0 0 0\n",
        "0 0 0 0 0 0\n",
        "0 0 0 0 0 0\n",
        "0 0 0 0 0 0\n",
        "```\n",
        "\n",
        "Take the first submatrix:\n",
        "```\n",
        "1 1 1\n",
        "0 1 0\n",
        "1 1 1\n",
        "```\n",
        "and sum its values, then move on to another $3*3$ at `j+1`:\n",
        "```\n",
        "1 1 0\n",
        "1 0 0\n",
        "1 1 0\n",
        "```\n",
        "so on and so forth.\n",
        "\n",
        "# Code"
      ]
    },
    {
      "cell_type": "code",
      "metadata": {
        "id": "Z74W6Z4cccDw"
      },
      "source": [
        "def hourglassSum(arr):\n",
        "    nrow = len(arr)\n",
        "    ncol = len(arr[0])\n",
        "\n",
        "    line1 = 0\n",
        "    line2 = 0\n",
        "    line3 = 0\n",
        "    sums = []\n",
        "\n",
        "    for row in range(nrow-2):\n",
        "        for col in range(ncol-2):\n",
        "            line1 = arr[row][col] + arr[row][col+1] + arr[row][col+2]\n",
        "            line2 = arr[row+1][col+1]\n",
        "            line3 = arr[row+2][col] + arr[row+2][col+1] + arr[row+2][col+2]\n",
        "            sums.append(line1+line2+line3)\n",
        "    \n",
        "    return max(sums)"
      ],
      "execution_count": null,
      "outputs": []
    }
  ]
}