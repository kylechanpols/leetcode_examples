{
  "nbformat": 4,
  "nbformat_minor": 0,
  "metadata": {
    "colab": {
      "name": "(Hackerrank) Arrays: Left Rotation .ipynb",
      "provenance": [],
      "authorship_tag": "ABX9TyNZ8+mtk7BaPulA8ixQ/gEz",
      "include_colab_link": true
    },
    "kernelspec": {
      "name": "python3",
      "display_name": "Python 3"
    },
    "language_info": {
      "name": "python"
    }
  },
  "cells": [
    {
      "cell_type": "markdown",
      "metadata": {
        "id": "view-in-github",
        "colab_type": "text"
      },
      "source": [
        "<a href=\"https://colab.research.google.com/github/kylechanpols/leetcode_examples/blob/main/(Hackerrank)_Arrays_Left_Rotation_.ipynb\" target=\"_parent\"><img src=\"https://colab.research.google.com/assets/colab-badge.svg\" alt=\"Open In Colab\"/></a>"
      ]
    },
    {
      "cell_type": "markdown",
      "metadata": {
        "id": "9Z2ZiuCliWBI"
      },
      "source": [
        "# Arrays: Left Rotation\n",
        "\n",
        "A left rotation operation on an array shifts each of the array's elements $1$  unit to the left. For example, if $2$ left rotations are performed on array `[1,2,3,4,5]` , then the array would become `[3,4,5,1,2]`. Note that the lowest index item moves to the highest index in a rotation. This is called a circular array.\n",
        "\n",
        "Given an array `a` of `n` integers and a number, `d`, perform `d` left rotations on the array. Return the updated array to be printed as a single line of space-separated integers.\n",
        "\n",
        "##Function Description\n",
        "\n",
        "Complete the function rotLeft in the editor below.\n",
        "\n",
        "rotLeft has the following parameter(s):\n",
        "\n",
        "int a[n]: the array to rotate\n",
        "int d: the number of rotations\n",
        "Returns\n",
        "\n",
        "int a'[n]: the rotated array\n",
        "Input Format\n",
        "\n",
        "The first line contains two space-separated integers  and , the size of  and the number of left rotations.\n",
        "The second line contains  space-separated integers, each an .\n",
        "\n",
        "## Constraints\n",
        "$1 \\leqslant n \\leqslant 10^5$\n",
        "\n",
        "$1 \\leqslant d \\leqslant n$\n",
        "\n",
        "$1 \\leqslant a[i] \\leqslant 10^6$\n",
        "\n",
        "### Sample Input\n",
        "```\n",
        "5 4\n",
        "1 2 3 4 5\n",
        "```\n",
        "### Sample Output\n",
        "```\n",
        "5 1 2 3 4\n",
        "```\n",
        "\n"
      ]
    },
    {
      "cell_type": "markdown",
      "metadata": {
        "id": "myPJcbb8jEUe"
      },
      "source": [
        "#Thought Process\n",
        "\n",
        "If an entry $a$ is to be moved right $d$ times, then the output array can be separated into two parts: the parts to be moved right from `0 to d`, and the parts shifted left, from `d+1 to n`.\n",
        "\n",
        "For example, in the array `a=  [1,2,3,4,5]`, shifting this array twice would yield `a = [3,4,5,1,2]`.  Realize that given the constraint $1 \\leqslant d \\leqslant n$, we can simply swap the entries of `0:d` and `d+1:n`. If this constraint is not imposed, then we would need to loop over the contents to determine where the last digit `a[n-1]` would land, and expand the new array from there.\n",
        "\n",
        "#Code"
      ]
    },
    {
      "cell_type": "code",
      "metadata": {
        "id": "7RZx1GiwjhgA"
      },
      "source": [
        "def rotLeft(a, d):\n",
        "    new_arr = a\n",
        "    rotate = a[0:d]\n",
        "    org = a[len(rotate):len(a)]\n",
        "    new_arr[0:len(org)] = org\n",
        "    new_arr[len(org):len(a)] = rotate\n",
        "    return new_arr"
      ],
      "execution_count": null,
      "outputs": []
    }
  ]
}