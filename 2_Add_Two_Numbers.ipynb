{
  "nbformat": 4,
  "nbformat_minor": 0,
  "metadata": {
    "colab": {
      "name": "2. Add Two Numbers.ipynb",
      "provenance": [],
      "authorship_tag": "ABX9TyN/NuSBLnIdf+HL6phYXQA3",
      "include_colab_link": true
    },
    "kernelspec": {
      "name": "python3",
      "display_name": "Python 3"
    },
    "language_info": {
      "name": "python"
    }
  },
  "cells": [
    {
      "cell_type": "markdown",
      "metadata": {
        "id": "view-in-github",
        "colab_type": "text"
      },
      "source": [
        "<a href=\"https://colab.research.google.com/github/kylechanpols/leetcode_examples/blob/main/2_Add_Two_Numbers.ipynb\" target=\"_parent\"><img src=\"https://colab.research.google.com/assets/colab-badge.svg\" alt=\"Open In Colab\"/></a>"
      ]
    },
    {
      "cell_type": "markdown",
      "metadata": {
        "id": "Gw7wMlnCrDiD"
      },
      "source": [
        "#2. Add Two Numbers\n",
        "\n",
        "You are given two non-empty linked lists representing two non-negative integers. The digits are stored in reverse order, and each of their nodes contains a single digit. Add the two numbers and return the sum as a linked list.\n",
        "\n",
        "You may assume the two numbers do not contain any leading zero, except the number 0 itself.\n",
        "\n",
        "Example 1:\n",
        "```\n",
        "Input: l1 = [2,4,3], l2 = [5,6,4]\n",
        "Output: [7,0,8]\n",
        "Explanation: 342 + 465 = 807.\n",
        "```\n",
        "\n",
        "Example 2:\n",
        "```\n",
        "Input: l1 = [0], l2 = [0]\n",
        "Output: [0]\n",
        "```\n",
        "\n",
        "Example 3:\n",
        "```\n",
        "Input: l1 = [9,9,9,9,9,9,9], l2 = [9,9,9,9]\n",
        "Output: [8,9,9,9,0,0,0,1]\n",
        " ```\n",
        "\n",
        "Constraints:\n",
        "\n",
        "The number of nodes in each linked list is in the range `[1, 100]`.\n",
        "\n",
        "`0 <= Node.val <= 9`\n",
        "\n",
        "It is guaranteed that the list represents a number that does not have leading zeros."
      ]
    },
    {
      "cell_type": "markdown",
      "metadata": {
        "id": "YwD8s679rNqx"
      },
      "source": [
        "## Thought Process\n",
        "\n",
        "This is exactly how we add up numbers as taught in elementary school. The challenge here is to deal with carrying. Note that some digits when added up will be `>=10`. Because an item in this linked list cannot contain a two-digit number, the first digit must be carried on to the next item in the list.\n",
        "\n",
        "We can take advantage of the built-in `divmod` function in Python that generates both the quotient and the remainder from a division. We will use the quotient as the carry and add that to the sum of numbers in every calculation. \n",
        "\n",
        "We should also take advantage of the given class `ListNode`. Let's define one variable under this class as the answer (`ans`) to store all summations, and define a pointer (`pointer`) that a copy of `ans`. In this way, whatever the `pointer` moves to a particular position in the two linked lists, it will compute the summation and the carry, and stores that to the `ans` class simultaneously. We then return `ans.next`, which is an appeneded list of computations from the pointer."
      ]
    },
    {
      "cell_type": "markdown",
      "metadata": {
        "id": "ruBZA2rksYZh"
      },
      "source": [
        "# Code"
      ]
    },
    {
      "cell_type": "code",
      "metadata": {
        "id": "_vvHUOBksXct"
      },
      "source": [
        "# Definition for singly-linked list.\n",
        "class ListNode:\n",
        "    def __init__(self, val=0, next=None):\n",
        "         self.val = val\n",
        "         self.next = next\n",
        "class Solution:\n",
        "    def addTwoNumbers(self, l1: ListNode, l2: ListNode) -> ListNode:    \n",
        "        ans = ListNode(0)\n",
        "        pointer = ans #info being shared in the same class as ans\n",
        "        carry = 0\n",
        "\n",
        "        while(l1 or l2 or carry):\n",
        "            x= (l1.val if l1 else 0)\n",
        "            y= (l2.val if l2 else 0)\n",
        "            carry, remainder = divmod(x + y +carry,10)\n",
        "            \n",
        "            pointer.next = ListNode(remainder) # pointer moves to the next item in the two lists, sum them up, and this is being stored in the ans too\n",
        "            pointer = pointer.next\n",
        "            \n",
        "            #print(pointer) #each value\n",
        "            #print(ans.next) #using x.next, we're appending something akin to a list\n",
        "\n",
        "            l1= (l1.next if l1 else None)\n",
        "            l2= (l2.next if l2 else None)\n",
        "        \n",
        "        return ans.next"
      ],
      "execution_count": 1,
      "outputs": []
    }
  ]
}