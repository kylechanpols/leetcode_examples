{
  "nbformat": 4,
  "nbformat_minor": 0,
  "metadata": {
    "colab": {
      "name": "(Hackerrank) Warmup.ipynb",
      "provenance": [],
      "authorship_tag": "ABX9TyOGxxxFK25wbAUzDbaAbMdm",
      "include_colab_link": true
    },
    "kernelspec": {
      "name": "python3",
      "display_name": "Python 3"
    },
    "language_info": {
      "name": "python"
    }
  },
  "cells": [
    {
      "cell_type": "markdown",
      "metadata": {
        "id": "view-in-github",
        "colab_type": "text"
      },
      "source": [
        "<a href=\"https://colab.research.google.com/github/kylechanpols/leetcode_examples/blob/main/(Hackerrank)_Warmup.ipynb\" target=\"_parent\"><img src=\"https://colab.research.google.com/assets/colab-badge.svg\" alt=\"Open In Colab\"/></a>"
      ]
    },
    {
      "cell_type": "markdown",
      "metadata": {
        "id": "heOtn8s7On0Q"
      },
      "source": [
        "# 1. Sales by Match\n",
        "\n",
        "There is a large pile of socks that must be paired by color. Given an array of integers representing the color of each sock, determine how many pairs of socks with matching colors there are.\n",
        "\n",
        "## Example\n",
        "\n",
        "`n=7`\n",
        "\n",
        "`ar = [1,2,1,2,1,3,2]`\n",
        "\n",
        "\n",
        "There is one pair of color 1 and one of color 2. There are three odd socks left, one of each color. The number of pairs is `2`.\n",
        "\n",
        "## Function Description\n",
        "\n",
        "Complete the sockMerchant function in the editor below.\n",
        "\n",
        "sockMerchant has the following parameter(s):\n",
        "\n",
        "int n: the number of socks in the pile\n",
        "int ar[n]: the colors of each sock\n",
        "Returns\n",
        "\n",
        "int: the number of pairs\n",
        "\n",
        "## Input Format\n",
        "\n",
        "The first line contains an integer `n`, the number of socks represented in `ar`.\n",
        "The second line contains `n` space-separated integers, `ar[i]`, the colors of the socks in the pile.\n",
        "\n",
        "## Constraints\n",
        "\n",
        "$1 <= n <= 100$\n",
        "\n",
        "$1 <= ar[i] <= 100 where 0 <=i < n$\n",
        "\n",
        "## Sample Input\n",
        "```\n",
        "STDIN                       Function\n",
        "-----                       --------\n",
        "9                           n = 9\n",
        "10 20 20 10 10 30 50 10 20  ar = [10, 20, 20, 10, 10, 30, 50, 10, 20]\n",
        "```\n",
        "\n",
        "## Sample Output\n",
        "```\n",
        "3\n",
        "```\n"
      ]
    },
    {
      "cell_type": "markdown",
      "metadata": {
        "id": "qhnbqHUGHd0E"
      },
      "source": [
        "# Thought Process\n",
        "\n",
        "While this can be easily done in `pandas`, a pythonic way is to sort the array and then compare the current item and the next item. Once a pair is found, move the pointer by 2 items so that we avoid over-counting a pair. \n",
        "\n",
        "Thus the code should look something like this:\n",
        "1. Sort the array\n",
        "2. Construct a while loop. The loop should stop as the pointer reaches `n-2` (to avoid indexing error as we will move the pointer by 2 not 1)\n",
        "3. If the pointer sees a match for the current item and the next item, add 1 to the `pairs` variable.\n",
        "4. Then move the pointer by 2 to avoid over-counting\n",
        "\n",
        "# Code"
      ]
    },
    {
      "cell_type": "code",
      "metadata": {
        "id": "iHEHqcfkFCC4"
      },
      "source": [
        "def sockMerchant(n, ar):\n",
        "    ar = sorted(ar)\n",
        "    pairs = 0\n",
        "    i = 0\n",
        "    while i <= n-2:\n",
        "        if(ar[i] == ar[i+1]):\n",
        "            pairs += 1\n",
        "            i+= 2\n",
        "        else:\n",
        "            i+=1\n",
        "    return pairs"
      ],
      "execution_count": null,
      "outputs": []
    },
    {
      "cell_type": "markdown",
      "metadata": {
        "id": "mJQ8qvs7FCzt"
      },
      "source": [
        "#2. Counting Valleys\n",
        "\n",
        "An avid hiker keeps meticulous records of their hikes. During the last hike that took exactly `steps` steps, for every step it was noted if it was an uphill, `U` , or a downhill, `D` step. Hikes always start and end at sea level, and each step up or down represents a  unit change in altitude. We define the following terms:\n",
        "\n",
        "A mountain is a sequence of consecutive steps above sea level, starting with a step up from sea level and ending with a step down to sea level.\n",
        "\n",
        "A valley is a sequence of consecutive steps below sea level, starting with a step down from sea level and ending with a step up to sea level.\n",
        "\n",
        "Given the sequence of up and down steps during a hike, find and print the number of valleys walked through.\n",
        "\n",
        "Example\n",
        "```\n",
        "steps = 8 path = [DDUUUUDD]\n",
        "```\n",
        "\n",
        "The hiker first enters a valley `2` units deep. Then they climb out and up onto a mountain `2` units high. Finally, the hiker returns to sea level and ends the hike.\n",
        "\n",
        "Function Description\n",
        "\n",
        "Complete the countingValleys function in the editor below.\n",
        "\n",
        "countingValleys has the following parameter(s):\n",
        "\n",
        "int steps: the number of steps on the hike\n",
        "string path: a string describing the path\n",
        "Returns\n",
        "\n",
        "int: the number of valleys traversed\n",
        "Input Format\n",
        "\n",
        "The first line contains an integer `steps` , the number of steps in the hike.\n",
        "The second line contains a single string `path`, of `steps`  characters that describe the path.\n",
        "\n",
        "Constraints:\n",
        "\n",
        "\n",
        "$2 <= steps <= 10^6$\n",
        "\n",
        "$path[i] \\in \\{UD\\}$\n",
        "\n",
        "Sample Input\n",
        "```\n",
        "8\n",
        "UDDDUDUU\n",
        "```\n",
        "\n",
        "Sample Output\n",
        "`1`\n",
        "\n",
        "Explanation\n",
        "\n",
        "If we represent _ as sea level, a step up as /, and a step down as \\, the hike can be drawn as:\n",
        "```\n",
        "_/\\      _\n",
        "   \\    /\n",
        "    \\/\\/\n",
        "```\n",
        "\n",
        "The hiker enters and leaves one valley."
      ]
    },
    {
      "cell_type": "markdown",
      "metadata": {
        "id": "jnhzvgiUJTCD"
      },
      "source": [
        "# Thought Process\n",
        "\n",
        "This is a rather straightfoward problem. Initialize the altitutde to be at `0`. Then loop through the `steps` vector. Whenever we see `U`, add 1 to the `altitutde`. Conversely, if we see `D`, deduct `altitutde` by 1.\n",
        "\n",
        "But the `altitutde` variable is used to determine if the hiker has entered a valley or not. Therefore, add two conditionals to determine if the hiker is entering or leave a valley:\n",
        "\n",
        "1. Initialize `valleys =0` and the flag `in_valley` to be `False`.\n",
        "\n",
        "2. If attitude is <=0 (will soon below sea level), the hiker is inside a valley. If the current step is `D`, (going down), then we check if the hiker is inside a valley or not. If all these conditions pass, then we set the `in_valley` flag to be True, and add to the valley counter `valleys += 1`.\n",
        "\n",
        "3. If attitude is about to be above sea level (> -1), and the hiker is climbing (step = `U`), and that the hiker is inside a valley, then we set the `in_valley` flag to be False. Rinse and repeat until we hit (2) again.\n",
        "\n",
        "4. Return a count of `valleys`.\n",
        "\n",
        "# Code"
      ]
    },
    {
      "cell_type": "code",
      "metadata": {
        "id": "Tvvs-W8mGcqo"
      },
      "source": [
        "def countingValleys(steps, path):\n",
        "    altitutde = 0\n",
        "    in_valley = False\n",
        "    valleys = 0\n",
        "    for i in range(steps):\n",
        "        #update altitutde\n",
        "        if(path[i] == \"D\"):\n",
        "            altitutde -=1\n",
        "        else:\n",
        "            altitutde +=1\n",
        "        \n",
        "        # check if entering valley.\n",
        "        if(altitutde<0 and path[i]==\"D\" and not in_valley):\n",
        "            in_valley = True\n",
        "            valleys +=1\n",
        "        #check if leaving valley\n",
        "        elif(altitutde>-1 and path[i]==\"U\" and in_valley):\n",
        "            in_valley = False\n",
        "        \n",
        "    return valleys"
      ],
      "execution_count": null,
      "outputs": []
    },
    {
      "cell_type": "markdown",
      "metadata": {
        "id": "E20UaaWFGf1U"
      },
      "source": [
        "# 3. Jumping on the Clouds\n",
        "\n",
        "There is a new mobile game that starts with consecutively numbered clouds. Some of the clouds are thunderheads and others are cumulus. The player can jump on any cumulus cloud having a number that is equal to the number of the current cloud plus `1` or `2`. The player must avoid the thunderheads. Determine the minimum number of jumps it will take to jump from the starting postion to the last cloud. It is always possible to win the game.\n",
        "\n",
        "For each game, you will get an array of clouds numbered `0` if they are safe or `1` if they must be avoided.\n",
        "\n",
        "Example\n",
        "\n",
        "`c=[0,1,0,0,0,1,0]`\n",
        "\n",
        "Index the array from `0...6`. The number on each cloud is its index in the list so the player must avoid the clouds at indices `1` and `5`. They could follow these two paths: `0->2->4->6` or `0->2->3->4->6`. The first path takes `3` jumps while the second takes `4`. Return `3`.\n",
        "\n",
        "Function Description\n",
        "\n",
        "Complete the jumpingOnClouds function in the editor below.\n",
        "\n",
        "jumpingOnClouds has the following parameter(s):\n",
        "\n",
        "int c[n]: an array of binary integers\n",
        "Returns\n",
        "\n",
        "int: the minimum number of jumps required\n",
        "\n",
        "Input Format\n",
        "\n",
        "The first line contains an integer `n`, the total number of clouds. The second line contains `n` space-separated binary integers describing clouds `c[i]` where $0<=i<=n$.\n",
        "\n",
        "Constraints\n",
        "\n",
        "$2<=n<=100$\n",
        "\n",
        "$c[i] \\in \\{0,1\\}$\n",
        "\n",
        "$c[0] = c[n-1] = 0$\n",
        "\n",
        "Output Format\n",
        "\n",
        "Print the minimum number of jumps needed to win the game.\n",
        "\n",
        "Sample Input 0\n",
        "```\n",
        "7\n",
        "0 0 1 0 0 1 0\n",
        "```\n",
        "Sample Output 0\n",
        "`4`\n",
        "\n",
        "Explanation 0:\n",
        "The player must avoid `c[2]` and `c[5]`. The game can be won with a minimum of `4` jumps\n",
        "\n",
        "Sample Input 1\n",
        "```\n",
        "6\n",
        "0 0 0 0 1 0\n",
        "```\n",
        "\n",
        "Sample Output 1\n",
        "`3`\n",
        "\n",
        "Explanation 1:\n",
        "The only thundercloud to avoid is `c[4]`. The game can be won in `3` jumps:"
      ]
    },
    {
      "cell_type": "markdown",
      "metadata": {
        "id": "CKbMLGb4L4yB"
      },
      "source": [
        "# Thought Process\n",
        "\n",
        "Another straightforward problem. We keep track of the position of the player `pos`, the number of jumps `jump`, and the number of clouds skipped `skipped`. Then in a while loop, loop until the `pos` has reached the end of the `c` vector (`len(c) - 1`, `-1` because a vector starts from 0 in python).\n",
        "\n",
        "Inside the loop, the program will look at the next cloud `c[i+1]`. If the next cloud is a `1`, then we jump over that cloud. So record: `jump +=1`, `pos +=2`, and reset the number of skipped clouds.\n",
        "\n",
        "When the next cloud is a `0`, add to the position and add `1` to `jump`. Use the `skipped` variable to keep track of how many clouds we have skipped. Add to `skipped` for every `pos` moved forward. Once we reached `skipped` to 2, we then reset `skipped` back to 0 and add `jump`, such that `jump` records only the minimal number of jumps (i.e. over 2 clouds at once).\n",
        "\n",
        "# Code"
      ]
    },
    {
      "cell_type": "code",
      "metadata": {
        "id": "O2r9Hl5VHLTy"
      },
      "source": [
        "def jumpingOnClouds(c):\n",
        "    length = len(c)\n",
        "    pos = 0\n",
        "    jump = 0\n",
        "    skipped = 0\n",
        "    while pos < length-1:\n",
        "        if(c[pos+1]==1):\n",
        "            jump+=1\n",
        "            pos+=2\n",
        "            skipped = 0 #resets the status flagger \"jumped\" used to flag that we've jumped across a lot of 0 clouds\n",
        "        else:\n",
        "            if skipped ==2:\n",
        "                skipped =0\n",
        "            if skipped ==0:\n",
        "                jump+=1\n",
        "            pos+=1\n",
        "            skipped +=1\n",
        "    return jump"
      ],
      "execution_count": null,
      "outputs": []
    },
    {
      "cell_type": "markdown",
      "metadata": {
        "id": "cbJPEO-fD1pl"
      },
      "source": [
        "#4 Repeated String\n",
        "\n",
        "There is a string, `s`, of lowercase English letters that is repeated infinitely many times. Given an integer, `n`, find and print the number of letter a's in the first `n`  letters of the infinite string.\n",
        "\n",
        "Example:\n",
        "s = `abcac`\n",
        "n = 10\n",
        "\n",
        "The substring we consider is `abcacabcac`, the first `10` characters of the infinite string. There are 4 occurrences of a in the substring.\n",
        "\n",
        "Function Description\n",
        "\n",
        "Complete the repeatedString function in the editor below.\n",
        "\n",
        "repeatedString has the following parameter(s):\n",
        "\n",
        "`s`: a string to repeat\n",
        "`n`: the number of characters to consider\n",
        "Returns\n",
        "\n",
        "`int`: the frequency of a in the substring\n",
        "Input Format\n",
        "\n",
        "The first line contains a single string, `s`.\n",
        "The second line contains an integer, `n`.\n",
        "\n",
        "Constraints\n",
        "\n",
        "$1 <= |s| <= 100$\n",
        "$1 <= |n| <= 10^12$\n",
        "\n",
        "For `25%` of the test cases, `n <= 10^6`.\n",
        "Sample Input\n",
        "\n",
        "Sample Input 0\n",
        "```\n",
        "aba\n",
        "10\n",
        "```\n",
        "\n",
        "Sample Output 0\n",
        "`7`\n",
        "\n",
        "Explanation 0\n",
        "The first `n=10` letters of the infinite string are `abaabaabaa`. Because there are `7` a's, we return `7`.\n",
        "\n",
        "Sample Input 1\n",
        "```\n",
        "a\n",
        "1000000000000\n",
        "```\n",
        "\n",
        "Sample Output 1\n",
        "`1000000000000`\n",
        "\n",
        "Explanation 1\n",
        "Because all of the first `n=100000000000000` letters of the infinite string are `a`, we return `100000000000000`.\n"
      ]
    },
    {
      "cell_type": "markdown",
      "metadata": {
        "id": "54iGAv9HPkgI"
      },
      "source": [
        "# Thought Process\n",
        "\n",
        "The output integer consists of two parts.\n",
        "\n",
        "First, the number of `a`s in a set of fully repeated strings. For example, consider `abba` and `n=10`. The string to compare is only `abbaabbaab`. The string `abba` is repeated twice : `abbaabba`. The number of `a`s in this substring is then:\n",
        "```Total of `a`s in a string * # times the string is fully repeated.```\n",
        "\n",
        "Second, in some cases where the string ends before n, so we will end up with a partial string. We need to find the remainder of that string with the modulo operator `%`. Call this quantity r: ```r= remainder of n/ length of string s```, then we subset `s` up to `r` characters and count the number of `a`s there.\n",
        "\n",
        "We then sum up these two integers and return the output.\n",
        "\n",
        "# Code"
      ]
    },
    {
      "cell_type": "code",
      "metadata": {
        "id": "QXrEbCqbD3gc"
      },
      "source": [
        "def repeatedString(s, n):\n",
        "    return ((n//len(s))*s.count(\"a\"))+(s[: n % len(s)].count(\"a\"))"
      ],
      "execution_count": null,
      "outputs": []
    },
    {
      "cell_type": "code",
      "metadata": {
        "id": "LwbNOMwZOise"
      },
      "source": [
        ""
      ],
      "execution_count": null,
      "outputs": []
    }
  ]
}