{
  "nbformat": 4,
  "nbformat_minor": 0,
  "metadata": {
    "colab": {
      "name": "295 - Find Median from Data Stream.ipynb",
      "provenance": [],
      "collapsed_sections": []
    },
    "kernelspec": {
      "name": "python3",
      "display_name": "Python 3"
    },
    "language_info": {
      "name": "python"
    }
  },
  "cells": [
    {
      "cell_type": "markdown",
      "metadata": {
        "id": "Cbl5Ne-Absgj"
      },
      "source": [
        "# Leetcode 295. Find Median from Data Stream\n",
        "\n",
        "## First Attempt\n",
        "\n",
        "My first try is very straight forward - every time you add a number you append to a list, and then sort it.\n",
        "\n",
        "Once the list is sorted, use the `floor` and `ceil` functions from `math` to find the appropriate positions. If we divide the length of the list by 2, we get the midpoint. Finding the floor yields the smaller number that is close to the midpoint, and finding the ceiling yields the larger number that is close to the midpoint.\n",
        "\n",
        "For even cases, we take the average of the two numbers acquired above. For odd cases, we can directly round up the midpoint.\n",
        "\n",
        "## Problems with the first run:\n",
        "- Slow runtime (1196 ms at testing)\n",
        "- Using `floor` and `ceil` is actually unnecessary. The two numbers used to find the median is actually the midpoint and midpoint-1 after rounding to the nearest integer."
      ]
    },
    {
      "cell_type": "code",
      "metadata": {
        "colab": {
          "base_uri": "https://localhost:8080/"
        },
        "id": "0LsEMAu6R0hY",
        "outputId": "2c50b084-d6e5-49ce-dd6c-2a36ccb0101b"
      },
      "source": [
        "import math as m\n",
        "\n",
        "class MedianFinder:\n",
        "\n",
        "    def __init__(self):\n",
        "        \"\"\"\n",
        "        initialize your data structure here.\n",
        "        \"\"\"\n",
        "        self.data = [] ## initialize a blank list\n",
        "\n",
        "    def addNum(self, num: int) -> None:\n",
        "        self.data.append(num) ## append to a list\n",
        "        self.data.sort()\n",
        "\n",
        "    def findMedian(self) -> float:\n",
        "        \n",
        "        ## First, figure out if the length is even or not\n",
        "        if( len(self.data) % 2 == 0): ## EVEN: if modulo is 0\n",
        "            pos1 = m.floor(len(self.data)/2) ## the smaller value\n",
        "            pos2 = pos1 + 1 ##　the bigger value\n",
        "            out = (self.data[pos1-1]+ self.data[pos2-1])/2\n",
        "            \n",
        "        else: ## ODD\n",
        "            pos = m.ceil(len(self.data)/2)\n",
        "            out = self.data[pos-1]\n",
        "        return (out)\n",
        "\n",
        "\n",
        "# Your MedianFinder object will be instantiated and called as such:\n",
        "# obj = MedianFinder()\n",
        "# obj.addNum(num)\n",
        "# param_2 = obj.findMedian()鴆"
      ],
      "execution_count": 15,
      "outputs": [
        {
          "output_type": "stream",
          "text": [
            "3.5\n",
            "4\n"
          ],
          "name": "stdout"
        }
      ]
    },
    {
      "cell_type": "markdown",
      "metadata": {
        "id": "OCZLUdvgdj0m"
      },
      "source": [
        "## Second Run\n",
        "\n",
        "I was introduced to the `bisect.insort` function that adds a number and sorts the list at the same time. This function drastically reduces the runtime down to 236 ms.\n",
        "\n",
        "In this version, I also avoided using the `floor` and `ceil` functions by directly manipulating the index."
      ]
    },
    {
      "cell_type": "code",
      "metadata": {
        "id": "sNRoRXwtawXc"
      },
      "source": [
        "from bisect import insort\n",
        "\n",
        "class MedianFinder:\n",
        "\n",
        "    def __init__(self):\n",
        "        \"\"\"\n",
        "        initialize your data structure here.\n",
        "        \"\"\"\n",
        "        self.data = [] ## initialize a blank list\n",
        "\n",
        "    def addNum(self, num: int) -> None:\n",
        "        insort(self.data,num) ## append to a list\n",
        "        \n",
        "\n",
        "    def findMedian(self) -> float:\n",
        "        l = len(self.data)\n",
        "        m = l // 2 # middle value via integer division\n",
        "        # Fault cases:\n",
        "        \n",
        "        if l == 0: return None\n",
        "        \n",
        "        if l == 1: return self.data[0]\n",
        "        \n",
        "        ## Even case:\n",
        "        if(l % 2 == 0):\n",
        "            return ((self.data[m]+ self.data[m-1])/2)\n",
        "            \n",
        "        ## odd case:\n",
        "        else:\n",
        "            return self.data[m]\n",
        "\n",
        "# Your MedianFinder object will be instantiated and called as such:\n",
        "# obj = MedianFinder()\n",
        "# obj.addNum(num)\n",
        "# param_2 = obj.findMedian()"
      ],
      "execution_count": null,
      "outputs": []
    },
    {
      "cell_type": "code",
      "metadata": {
        "id": "2ocnBgXYSH9k"
      },
      "source": [
        ""
      ],
      "execution_count": null,
      "outputs": []
    }
  ]
}