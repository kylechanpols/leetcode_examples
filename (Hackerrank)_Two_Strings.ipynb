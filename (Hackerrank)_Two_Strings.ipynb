{
  "nbformat": 4,
  "nbformat_minor": 0,
  "metadata": {
    "colab": {
      "name": "(Hackerrank) Two Strings.ipynb",
      "provenance": [],
      "authorship_tag": "ABX9TyN4Z2wAmXIrMSzoelrMGA17",
      "include_colab_link": true
    },
    "kernelspec": {
      "name": "python3",
      "display_name": "Python 3"
    },
    "language_info": {
      "name": "python"
    }
  },
  "cells": [
    {
      "cell_type": "markdown",
      "metadata": {
        "id": "view-in-github",
        "colab_type": "text"
      },
      "source": [
        "<a href=\"https://colab.research.google.com/github/kylechanpols/leetcode_examples/blob/main/(Hackerrank)_Two_Strings.ipynb\" target=\"_parent\"><img src=\"https://colab.research.google.com/assets/colab-badge.svg\" alt=\"Open In Colab\"/></a>"
      ]
    },
    {
      "cell_type": "markdown",
      "metadata": {
        "id": "7Ck2oy9jBcN4"
      },
      "source": [
        "# Two Strings\n",
        "\n",
        "Given two strings, determine if they share a common substring. A substring may be as small as one character.\n",
        "\n",
        "## Example\n",
        "```\n",
        "s1 = 'and'\n",
        "s2 = 'art'\n",
        "```\n",
        "These share the common substring `a`.\n",
        "```\n",
        "s1 = 'be'\n",
        "s2 = 'cat'\n",
        "```\n",
        "\n",
        "These do not share a substring.\n",
        "\n",
        "## Function Description\n",
        "\n",
        "Complete the function twoStrings in the editor below.\n",
        "\n",
        "twoStrings has the following parameter(s):\n",
        "\n",
        "string s1: a string\n",
        "string s2: another string\n",
        "\n",
        "## Returns\n",
        "\n",
        "string: either YES or NO\n",
        "\n",
        "## Input Format\n",
        "\n",
        "The first line contains a single integer `p`, the number of test cases.\n",
        "\n",
        "The following `p` pairs of lines are as follows:\n",
        "\n",
        "The first line contains string `s1`.\n",
        "The second line contains string `s2`.\n",
        "\n",
        "## Constraints\n",
        "\n",
        "`s1` and `s2` consist of characters in the range ascii[a-z].\n",
        "\n",
        "## Output Format\n",
        "\n",
        "For each pair of strings, return `YES` or `NO`.\n",
        "\n",
        "## Sample Input\n",
        "```\n",
        "2\n",
        "hello\n",
        "world\n",
        "hi\n",
        "world\n",
        "```\n",
        "\n",
        "## Sample Output\n",
        "\n",
        "```\n",
        "YES\n",
        "NO\n",
        "```"
      ]
    },
    {
      "cell_type": "markdown",
      "metadata": {
        "id": "LRfIkVNWCByO"
      },
      "source": [
        "# Thought Process\n",
        "\n",
        "The bruteforce method would involve creating an universal dictionary of ascii[a-z] that maps these character to some value, and then use that big dictionary to check if the two strings have any common substrings. That could be quite slow as it will always have to traverse through the two strings as well as storing a dictionary of ascii[a-z].\n",
        "\n",
        "A refinement is to limit the number of entries in the dictionary. Say we compare the length of the two strings, and call the longer string `long` and shorter string `short`. Then it turns out all we need is to construct a dictionary mapping characters from `long` to some value, and use that as reference to crosscheck if there's any subsring in `short` that has an entry in the dictionary. Map these characters to the value of 1 (or `True`), then check if at some point the search in the dictionary yields a 1. If so, return `\"YES\"`. Otherwise at the end of function return `\"NO\"`.\n",
        "\n",
        "If the length of the two strings is the same, then we can construct a dictionary from either of the two strings. Consider the following example:\n",
        "```\n",
        "abc\n",
        "adf\n",
        "```\n",
        "It does not matter if we construct the dictionary `{'a':1, 'b':1, 'c':1}` or `{'a':1, 'd':1, 'f':1}`, either way, `a` will show up in the dictionary and we will be able to find a match in the dictionary call. The same applies to the case where two strings have no common substrings.\n",
        "\n",
        "### Time Complexity\n",
        "$O(n^2)$ due to the use of the two for loops.\n",
        "\n",
        "# Code\n"
      ]
    },
    {
      "cell_type": "code",
      "metadata": {
        "id": "LJ72whhPEX70"
      },
      "source": [
        "def twoStrings(s1, s2):\n",
        "    d = {}\n",
        "    if (len(s1) >= len(s2)):\n",
        "        #scenario 1: s1 longer than s2, s1 is long; s2 is short     \n",
        "        #scenario 3: equal length - pick either s1 or s2 for the dict\n",
        "        l = s1\n",
        "        s = s2\n",
        "    else:\n",
        "        #scenario 2: s1 shorter than s2, s2 is long; s1 is short\n",
        "        l = s2\n",
        "        s= s1     \n",
        "    \n",
        "    #construct dict from long\n",
        "    for char in l:\n",
        "        d[char] = 1\n",
        "    \n",
        "    #use dict to check if there's an overlap\n",
        "    for char in s:\n",
        "        try:\n",
        "            if(d[char] == 1):\n",
        "                return \"YES\"\n",
        "        except KeyError as e:\n",
        "            pass\n",
        "    \n",
        "    return \"NO\""
      ],
      "execution_count": null,
      "outputs": []
    },
    {
      "cell_type": "code",
      "metadata": {
        "id": "NT3V7a1ZBaCY"
      },
      "source": [
        ""
      ],
      "execution_count": null,
      "outputs": []
    }
  ]
}